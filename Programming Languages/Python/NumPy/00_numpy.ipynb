{
 "cells": [
  {
   "cell_type": "code",
   "execution_count": 1,
   "metadata": {},
   "outputs": [],
   "source": [
    "import numpy as np"
   ]
  },
  {
   "cell_type": "code",
   "execution_count": 2,
   "metadata": {},
   "outputs": [
    {
     "data": {
      "text/plain": [
       "(array(1), numpy.ndarray, 0)"
      ]
     },
     "execution_count": 2,
     "metadata": {},
     "output_type": "execute_result"
    }
   ],
   "source": [
    "# Scalar\n",
    "np_arr_0D = np.array(1)\n",
    "np_arr_0D, type(np_arr_0D), np_arr_0D.ndim"
   ]
  },
  {
   "cell_type": "code",
   "execution_count": 3,
   "metadata": {},
   "outputs": [
    {
     "data": {
      "text/plain": [
       "(array([1, 2, 3, 4]), numpy.ndarray, 1)"
      ]
     },
     "execution_count": 3,
     "metadata": {},
     "output_type": "execute_result"
    }
   ],
   "source": [
    "# Vector\n",
    "np_arr_1D = np.array([1, 2, 3, 4])\n",
    "np_arr_1D, type(np_arr_1D), np_arr_1D.ndim"
   ]
  },
  {
   "cell_type": "code",
   "execution_count": 4,
   "metadata": {},
   "outputs": [
    {
     "data": {
      "text/plain": [
       "(array([[ 1,  2,  3,  4],\n",
       "        [ 2,  4,  6,  8],\n",
       "        [ 3,  6,  9, 12],\n",
       "        [ 4,  8, 12, 16]]),\n",
       " numpy.ndarray,\n",
       " 2,\n",
       " 16)"
      ]
     },
     "execution_count": 4,
     "metadata": {},
     "output_type": "execute_result"
    }
   ],
   "source": [
    "# Matrix\n",
    "\"\"\" np_arr_2D = np.array([ \n",
    "                      [11, 12, 13],\n",
    "                      [14, 15, 16]\n",
    "                    ]) \"\"\"\n",
    "\n",
    "np_arr_2D = np.array([np_arr_1D * i for i in range(1, 5)])\n",
    "np_arr_2D, type(np_arr_2D), np_arr_2D.ndim, np_arr_2D.size"
   ]
  },
  {
   "cell_type": "code",
   "execution_count": 5,
   "metadata": {},
   "outputs": [
    {
     "data": {
      "text/plain": [
       "(array([[[ 1,  2,  3,  4],\n",
       "         [ 2,  4,  6,  8],\n",
       "         [ 3,  6,  9, 12],\n",
       "         [ 4,  8, 12, 16]],\n",
       " \n",
       "        [[ 2,  4,  6,  8],\n",
       "         [ 4,  8, 12, 16],\n",
       "         [ 6, 12, 18, 24],\n",
       "         [ 8, 16, 24, 32]],\n",
       " \n",
       "        [[ 3,  6,  9, 12],\n",
       "         [ 6, 12, 18, 24],\n",
       "         [ 9, 18, 27, 36],\n",
       "         [12, 24, 36, 48]]]),\n",
       " 48,\n",
       " dtype('int32'))"
      ]
     },
     "execution_count": 5,
     "metadata": {},
     "output_type": "execute_result"
    }
   ],
   "source": [
    "# Tensor \n",
    "np_arr_3D = np.array( [ np_arr_2D * i for i in range(1, 4)] )\n",
    "np_arr_3D, np_arr_3D.size, np_arr_3D.dtype"
   ]
  },
  {
   "cell_type": "markdown",
   "metadata": {},
   "source": [
    "Create NumPy array out of Python data structure"
   ]
  },
  {
   "cell_type": "code",
   "execution_count": 12,
   "metadata": {},
   "outputs": [
    {
     "data": {
      "text/plain": [
       "array([40, 13, 98, 51, 88, 21, 75, 37,  4, 15])"
      ]
     },
     "execution_count": 12,
     "metadata": {},
     "output_type": "execute_result"
    }
   ],
   "source": [
    "import random\n",
    "\n",
    "my_list = [random.randint(1, 101) for i in range(1, 11)]\n",
    "np_list = np.array(my_list)\n",
    "np_list"
   ]
  },
  {
   "cell_type": "code",
   "execution_count": null,
   "metadata": {},
   "outputs": [],
   "source": []
  }
 ],
 "metadata": {
  "kernelspec": {
   "display_name": "Python 3",
   "language": "python",
   "name": "python3"
  },
  "language_info": {
   "codemirror_mode": {
    "name": "ipython",
    "version": 3
   },
   "file_extension": ".py",
   "mimetype": "text/x-python",
   "name": "python",
   "nbconvert_exporter": "python",
   "pygments_lexer": "ipython3",
   "version": "3.11.5"
  }
 },
 "nbformat": 4,
 "nbformat_minor": 2
}
