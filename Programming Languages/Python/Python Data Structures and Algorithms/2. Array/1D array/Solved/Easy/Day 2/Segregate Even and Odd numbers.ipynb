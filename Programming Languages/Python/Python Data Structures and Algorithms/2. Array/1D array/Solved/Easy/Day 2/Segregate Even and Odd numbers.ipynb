{
 "cells": [
  {
   "cell_type": "markdown",
   "metadata": {},
   "source": [
    "**```Description```**\n",
    "\n",
    "Given an array Arr[], write a program that segregates even and odd numbers. The program should put all even numbers first in sorted order, and then odd numbers in sorted order.\n",
    "\n",
    "Note : You don't have to return the array, you just have to modify it in-place.\n",
    "\n",
    "```Input 1```\n",
    "\n",
    "N = 7  \n",
    "Arr[] = {12, 34, 45, 9, 8, 90, 3}  \n",
    "Output: 8 12 34 90 3 9 45  "
   ]
  },
  {
   "cell_type": "markdown",
   "metadata": {},
   "source": [
    "```Solution 1```"
   ]
  },
  {
   "cell_type": "code",
   "execution_count": null,
   "metadata": {},
   "outputs": [],
   "source": [
    "#User function Template for python3\n",
    "class Solution:\n",
    "\n",
    "    def segregateEvenOdd(self,arr, n):\n",
    "        allEvens = [item for item in arr if item % 2 == 0]\n",
    "        allOdds = [item for item in arr if item % 2 != 0]\n",
    "\n",
    "        arr[:len(allEvens)], arr[len(allEvens):] = sorted(allEvens), sorted(allOdds)\n",
    "\n",
    "        return arr"
   ]
  }
 ],
 "metadata": {
  "language_info": {
   "name": "python"
  }
 },
 "nbformat": 4,
 "nbformat_minor": 2
}
