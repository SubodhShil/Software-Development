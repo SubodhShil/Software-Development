{
 "cells": [
  {
   "cell_type": "markdown",
   "metadata": {},
   "source": [
    "**```Description```**\n",
    "\n",
    "Given an array of length n consisting of only 0's and 1's in random order. Modify the array in-place to segregate 0s on the left side and 1s on the right side of the array.    \n",
    "\n",
    "```Input 1```  \n",
    "n = 5  \n",
    "arr[] = {0, 0, 1, 1, 0}  \n",
    "Output: {0, 0, 0, 1, 1}   "
   ]
  },
  {
   "cell_type": "markdown",
   "metadata": {},
   "source": [
    "```Solution 1```\n",
    "\n",
    "Time complexity: O(N)  \n",
    "Space complexity: O(N)"
   ]
  },
  {
   "cell_type": "code",
   "execution_count": null,
   "metadata": {},
   "outputs": [],
   "source": [
    "class Solution:\n",
    "    def segregate0and1(self, A, N):\n",
    "        cntOne = sum(1 for item in A if item == 1)\n",
    "        cntZero = N - cntOne\n",
    "    \n",
    "        # result = [0 for i in range(cntZero)] + [1 for i in range(cntOne)]\n",
    "        # result = [0] * cntZero + [1] * cntOne\n",
    "        A[:cntZero], A[cntZero:] = [0] * cntZero, [1] * cntOne\n",
    "    \n",
    "        return A"
   ]
  },
  {
   "cell_type": "markdown",
   "metadata": {},
   "source": [
    "```Solution 2 (Optmized)```\n",
    "\n",
    "Time complexity: O(N)  \n",
    "Space complexity: O(1)  "
   ]
  },
  {
   "cell_type": "code",
   "execution_count": null,
   "metadata": {},
   "outputs": [],
   "source": [
    "class Solution:\n",
    "\n",
    "    def segregate0and1(self, arr, n):\n",
    "        \n",
    "        left, right = 0, n - 1\n",
    "        \n",
    "        while left < right:\n",
    "    \n",
    "            if arr[left] == 1 and arr[right] == 0:\n",
    "                arr[left], arr[right] = arr[right], arr[left]\n",
    "                \n",
    "            elif arr[left] == 0:\n",
    "                left += 1\n",
    "                \n",
    "            else:\n",
    "                right -= 1\n",
    "    \n",
    "        return arr"
   ]
  }
 ],
 "metadata": {
  "language_info": {
   "name": "python"
  }
 },
 "nbformat": 4,
 "nbformat_minor": 2
}
