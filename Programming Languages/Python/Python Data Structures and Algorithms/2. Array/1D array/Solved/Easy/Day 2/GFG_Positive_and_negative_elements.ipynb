{
 "cells": [
  {
   "cell_type": "markdown",
   "metadata": {},
   "source": [
    "**```Description```**\n",
    "\n",
    "Given an array arr[ ] containing equal number of positive and negative elements, arrange the array such that every positive element is followed by a negative element.  \n",
    "**Note:** The relative order of positive and negative numbers should be maintained.\n",
    "\n",
    "```Input 1```\n",
    "\n",
    "N = 6  \n",
    "arr[] = {-1, 2, -3, 4, -5, 6}   \n",
    "\n",
    "**Output**: [2 -1 4 -3 6 -5]  \n",
    "Explanation: Positive numbers in order are 2, 4 and 6. Negative numbers in order are -1, -3 and -5.  \n",
    "So the arrangement we get is 2, -1, 4, -3, 6 and -5.\n",
    "\n",
    "\n",
    "```Input 2```\n",
    "\n",
    "N = 4  \n",
    "arr[] = {-3, 2, -4, 1}        \n",
    "**Output**: [2 -3 1 -4]"
   ]
  },
  {
   "cell_type": "code",
   "execution_count": null,
   "metadata": {},
   "outputs": [],
   "source": [
    "class Solution:\n",
    "    def arranged(self,arr,n):\n",
    "        \n",
    "        positives = [item for item in arr if item > 0]\n",
    "        negatives = [item for item in arr if item < 0]\n",
    "        result = []\n",
    "\n",
    "        for i in range(int(n // 2)):\n",
    "            result += [positives[i], negatives[i]]\n",
    "        \n",
    "        return result"
   ]
  }
 ],
 "metadata": {
  "language_info": {
   "name": "python"
  }
 },
 "nbformat": 4,
 "nbformat_minor": 2
}
