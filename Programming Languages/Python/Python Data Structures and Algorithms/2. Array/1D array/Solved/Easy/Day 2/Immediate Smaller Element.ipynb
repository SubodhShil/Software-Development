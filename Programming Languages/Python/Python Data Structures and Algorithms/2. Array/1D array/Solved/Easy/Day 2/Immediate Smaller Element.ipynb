{
 "cells": [
  {
   "cell_type": "markdown",
   "metadata": {},
   "source": [
    "**```Description```**\n",
    "\n",
    "Given an integer array Arr of size N. For each element in the array, check whether the right adjacent element (on the next immediate position) of the array is smaller. If next element is smaller, update the current index to that element. If not, then  -1.\n",
    "\n",
    "```Input 1```\n",
    "\n",
    "N = 5   \n",
    "Arr[] = {4, 2, 1, 5, 3}   \n",
    "\n",
    "```Input 2```\n",
    "\n",
    "N = 6  \n",
    "Arr[] = {5, 6, 2, 3, 1, 7}  "
   ]
  },
  {
   "cell_type": "code",
   "execution_count": null,
   "metadata": {},
   "outputs": [],
   "source": [
    "class Solution:\n",
    "\n",
    "    def immediateSmaller(self, arr, n):\n",
    "\n",
    "        for i in range(n):\n",
    "            if i + 1 <= n - 1 and arr[i + 1] < arr[i]:\n",
    "                arr[i] = arr[i + 1]\n",
    "            else:\n",
    "                arr[i] = -1\n",
    "\n",
    "        return arr"
   ]
  }
 ],
 "metadata": {
  "language_info": {
   "name": "python"
  }
 },
 "nbformat": 4,
 "nbformat_minor": 2
}
