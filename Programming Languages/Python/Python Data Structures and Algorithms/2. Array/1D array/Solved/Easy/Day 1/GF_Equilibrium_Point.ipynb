{
    "cells": [
        {
            "cell_type": "markdown",
            "metadata": {},
            "source": [
                "**```Description```**\n",
                "\n",
                "Given an array A of n non negative numbers. The task is to find the first equilibrium point in an array. Equilibrium point in an array is an index (or position) such that the sum of all elements before that index is same as sum of elements after it.\n",
                "\n",
                "Note: Return equilibrium point in 1-based indexing. Return -1 if no such point\n",
                "\n",
                "```python\n",
                "Input: \n",
                "n = 5 \n",
                "A[] = {1,3,5,2,2} \n",
                "Output: \n",
                "3 \n",
                "Explanation:  \n",
                "equilibrium point is at position 3 as sum of elements before it (1+3) = sum of elements after it (2+2). \n"
            ]
        },
        {
            "cell_type": "markdown",
            "metadata": {},
            "source": [
                "Solution 1: In this solution I've utilized the prefix and suffix sum techniques\n",
                "\n",
                "Time complexity: O(n)  \n",
                "Space complexity: O(n)"
            ]
        },
        {
            "cell_type": "code",
            "execution_count": null,
            "metadata": {},
            "outputs": [],
            "source": [
                "import itertools\n",
                "\n",
                "class Solution:\n",
                "\n",
                "    def equilibriumPoint(self, A, N):\n",
                "        prefix_sum = list(itertools.accumulate(A))\n",
                "        suffix_sum = list(itertools.accumulate(reversed(A)))[::-1]\n",
                "\n",
                "        for i in range(N):\n",
                "            if prefix_sum[i] == suffix_sum[i]:\n",
                "                return i + 1\n",
                "        return -1"
            ]
        },
        {
            "cell_type": "markdown",
            "metadata": {},
            "source": [
                "Solution 2"
            ]
        },
        {
            "cell_type": "code",
            "execution_count": null,
            "metadata": {},
            "outputs": [],
            "source": [
                "class Solution:\n",
                "\n",
                "    def equilibriumPoint(self, A, N):\n",
                "        total_sum = sum(A)\n",
                "\n",
                "        left_sum = 0\n",
                "        right_sum = total_sum\n",
                "\n",
                "        for i, item in enumerate(A):\n",
                "            right_sum -= item\n",
                "\n",
                "            if left_sum == right_sum:\n",
                "                return i + 1\n",
                "\n",
                "            left_sum += item\n",
                "\n",
                "        return -1"
            ]
        }
    ],
    "metadata": {
        "language_info": {
            "name": "python"
        }
    },
    "nbformat": 4,
    "nbformat_minor": 2
}
