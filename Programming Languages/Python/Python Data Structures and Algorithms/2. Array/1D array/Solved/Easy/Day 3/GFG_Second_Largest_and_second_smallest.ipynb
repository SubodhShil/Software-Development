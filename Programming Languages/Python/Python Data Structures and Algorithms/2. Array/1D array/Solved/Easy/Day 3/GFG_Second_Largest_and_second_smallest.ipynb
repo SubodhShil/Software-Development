{
 "cells": [
  {
   "cell_type": "code",
   "execution_count": 12,
   "metadata": {},
   "outputs": [],
   "source": [
    "class Solution1:\n",
    "\n",
    "    def print2largest(arr):\n",
    "\n",
    "        # first = second = float('-inf')\n",
    "        first, second = (arr[0], arr[1])\n",
    "\n",
    "        for x in arr:\n",
    "            if x > first:\n",
    "                second = first\n",
    "                first = x\n",
    "            elif x > second and x < first:\n",
    "                second = x\n",
    "\n",
    "        return second"
   ]
  },
  {
   "cell_type": "code",
   "execution_count": 13,
   "metadata": {},
   "outputs": [
    {
     "name": "stdout",
     "output_type": "stream",
     "text": [
      "34\n"
     ]
    }
   ],
   "source": [
    "print(Solution1.print2largest([12, 35, 1, 10, 34, 1]))"
   ]
  },
  {
   "cell_type": "code",
   "execution_count": 18,
   "metadata": {},
   "outputs": [],
   "source": [
    "class Solution2:\n",
    "\n",
    "    def print2smallest(arr):\n",
    "\n",
    "        # first = second = float('+inf')\n",
    "        (first, second) = (arr[0], arr[1])\n",
    "\n",
    "        for x in arr:\n",
    "            if x < first:\n",
    "                second = first\n",
    "                first = x\n",
    "            elif x < second and x > first:\n",
    "                second = x\n",
    "\n",
    "        return second"
   ]
  },
  {
   "cell_type": "code",
   "execution_count": 20,
   "metadata": {},
   "outputs": [
    {
     "name": "stdout",
     "output_type": "stream",
     "text": [
      "2\n"
     ]
    }
   ],
   "source": [
    "print(Solution2.print2smallest([1, 2, 3, 4]))"
   ]
  }
 ],
 "metadata": {
  "kernelspec": {
   "display_name": "Python 3",
   "language": "python",
   "name": "python3"
  },
  "language_info": {
   "codemirror_mode": {
    "name": "ipython",
    "version": 3
   },
   "file_extension": ".py",
   "mimetype": "text/x-python",
   "name": "python",
   "nbconvert_exporter": "python",
   "pygments_lexer": "ipython3",
   "version": "3.11.5"
  }
 },
 "nbformat": 4,
 "nbformat_minor": 2
}
