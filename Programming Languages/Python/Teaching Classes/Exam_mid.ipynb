{
 "cells": [
  {
   "cell_type": "markdown",
   "metadata": {},
   "source": [
    "# Python String\n"
   ]
  },
  {
   "cell_type": "code",
   "execution_count": 2,
   "metadata": {},
   "outputs": [
    {
     "name": "stdout",
     "output_type": "stream",
     "text": [
      "A B C D E F A A A\n",
      "Z B C D E F Z Z Z\n"
     ]
    }
   ],
   "source": [
    "# Replace strings\n",
    "\n",
    "a = \"A B C D E F A A A\"\n",
    "print(a)\n",
    "a = a.replace('A', 'Z')\n",
    "print(a)"
   ]
  },
  {
   "cell_type": "code",
   "execution_count": 3,
   "metadata": {},
   "outputs": [
    {
     "name": "stdout",
     "output_type": "stream",
     "text": [
      "He is not aloof\n",
      "he is an introvert\n"
     ]
    }
   ],
   "source": [
    "# Splitting a string\n",
    "\n",
    "a = \"He is not aloof, he is an introvert\"\n",
    "\n",
    "separated = a.split(',')\n",
    "separated[1] = separated[1].strip()\n",
    "\n",
    "print(separated[0])\n",
    "print(separated[1])"
   ]
  },
  {
   "cell_type": "code",
   "execution_count": 4,
   "metadata": {},
   "outputs": [
    {
     "name": "stdout",
     "output_type": "stream",
     "text": [
      "Unknown secretes are stronger than free rumors. You know nothing\n"
     ]
    }
   ],
   "source": [
    "\n",
    "x = \"Unknown secretes are stronger than free rumors.\"\n",
    "y = \"You know nothing\"\n",
    "\n",
    "concatenated = x + ' ' + y\n",
    "print(concatenated)"
   ]
  },
  {
   "cell_type": "code",
   "execution_count": 5,
   "metadata": {},
   "outputs": [
    {
     "name": "stdout",
     "output_type": "stream",
     "text": [
      "I want 3 pieces of item 567 for 49.95 dollars.\n"
     ]
    }
   ],
   "source": [
    "b = \"He who has childhood trauma\"\n",
    "\n",
    "quantity = 3\n",
    "itemno = 567\n",
    "price = 49.95\n",
    "myorder = \"I want {} pieces of item {} for {} dollars.\"\n",
    "print(myorder.format(quantity, itemno, price))"
   ]
  },
  {
   "cell_type": "code",
   "execution_count": 6,
   "metadata": {},
   "outputs": [
    {
     "name": "stdout",
     "output_type": "stream",
     "text": [
      "<built-in method center of str object at 0x0000025B4A5B47B0>\n"
     ]
    }
   ],
   "source": [
    "# Center of a string\n",
    "\n",
    "str1 = \"Not hate for the world\"\n",
    "print(str1.center)"
   ]
  },
  {
   "cell_type": "code",
   "execution_count": 7,
   "metadata": {},
   "outputs": [
    {
     "name": "stdout",
     "output_type": "stream",
     "text": [
      "26\n"
     ]
    }
   ],
   "source": [
    "# index() method\n",
    "\n",
    "str2 = \"Why somebody would go for therapy without let know his/her family?\"\n",
    "print(str2.index(\"therapy\"))"
   ]
  },
  {
   "cell_type": "markdown",
   "metadata": {},
   "source": [
    "# Python list\n"
   ]
  },
  {
   "cell_type": "code",
   "execution_count": 8,
   "metadata": {},
   "outputs": [
    {
     "name": "stdout",
     "output_type": "stream",
     "text": [
      "<class 'list'>\n"
     ]
    }
   ],
   "source": [
    "list1 = [\"Tomato\", \"Superman\", \"Robocop\", \"Hollowman\"]\n",
    "print(type(list1))"
   ]
  },
  {
   "cell_type": "code",
   "execution_count": 9,
   "metadata": {},
   "outputs": [
    {
     "name": "stdout",
     "output_type": "stream",
     "text": [
      "Doesn't exist\n"
     ]
    }
   ],
   "source": [
    "# check if something is exist in the list\n",
    "\n",
    "if \"max\" not in list1:\n",
    "    print(\"Doesn't exist\")"
   ]
  },
  {
   "cell_type": "code",
   "execution_count": 10,
   "metadata": {},
   "outputs": [
    {
     "name": "stdout",
     "output_type": "stream",
     "text": [
      "['Tomato', 'Ironman', 'Batman', 'Superman', 'Robocop', 'Hollowman']\n"
     ]
    }
   ],
   "source": [
    "# insert new item in list in a specific index\n",
    "\n",
    "list1.insert(1, \"Batman\")\n",
    "list1.insert(1, \"Ironman\")\n",
    "print(list1)"
   ]
  },
  {
   "cell_type": "code",
   "execution_count": 11,
   "metadata": {},
   "outputs": [
    {
     "name": "stdout",
     "output_type": "stream",
     "text": [
      "['Tomato', 'Ironman', 'Batman', 'Superman', 'Robocop', 'Hollowman', 'Loki']\n"
     ]
    }
   ],
   "source": [
    "# Add a new item in the end\n",
    "\n",
    "list1.append(\"Loki\")\n",
    "print(list1)"
   ]
  },
  {
   "cell_type": "code",
   "execution_count": 12,
   "metadata": {},
   "outputs": [
    {
     "name": "stdout",
     "output_type": "stream",
     "text": [
      "['Tomato', 'Ironman', 'Batman', 'Superman', 'Robocop', 'Hollowman', 'Loki', 'Homelander'] \n",
      " ['Tomato', 'Ironman', 'Batman', 'Superman', 'Robocop', 'Hollowman', 'Loki', 'Homelander']\n"
     ]
    }
   ],
   "source": [
    "list2 = [\"Homelander\"]\n",
    "\n",
    "# merge two or more lists together in a new list\n",
    "allHeroes = list1 + list2\n",
    "\n",
    "# merge list together in a single list\n",
    "list1.extend(list2)\n",
    "\n",
    "print(list1, '\\n', allHeroes)"
   ]
  },
  {
   "cell_type": "code",
   "execution_count": 13,
   "metadata": {},
   "outputs": [
    {
     "data": {
      "text/plain": [
       "['Homelander', 'Thor', 'Doctors']"
      ]
     },
     "execution_count": 13,
     "metadata": {},
     "output_type": "execute_result"
    }
   ],
   "source": [
    "heroDict = {\n",
    "    \"Thor\": \"Brother of Loki\",\n",
    "    \"Doctors\": \"First line defender of COVID 19\"\n",
    "}\n",
    "\n",
    "list2.extend(heroDict)\n",
    "list2"
   ]
  },
  {
   "cell_type": "code",
   "execution_count": 14,
   "metadata": {},
   "outputs": [
    {
     "data": {
      "text/plain": [
       "['B', 'C', 'B']"
      ]
     },
     "execution_count": 14,
     "metadata": {},
     "output_type": "execute_result"
    }
   ],
   "source": [
    "# remove elements using remove() method\n",
    "list3 = [\"A\", 'B', 'A', 'C', 'B']\n",
    "\n",
    "# remove the first 'A' from the list\n",
    "# list3.remove('A')\n",
    "\n",
    "# remove all 'A' from the list\n",
    "while 'A' in list3:\n",
    "    list3.remove('A')\n",
    "\n",
    "list3"
   ]
  },
  {
   "cell_type": "code",
   "execution_count": 15,
   "metadata": {},
   "outputs": [
    {
     "name": "stdout",
     "output_type": "stream",
     "text": [
      "Invalid index\n",
      "['Subodh', 'Antu', 'Shanto', 'Rishab', 'Rudro']\n"
     ]
    }
   ],
   "source": [
    "# remove an item in a specific index\n",
    "list4 = [\"Subodh\", \"Antu\", \"Shanto\", \"Rishab\", \"Rudro\"]\n",
    "\n",
    "try:\n",
    "    list4.pop(100)\n",
    "except:\n",
    "    print(\"Invalid index\")\n",
    "\n",
    "# list4.pop(2)\n",
    "# del list4[2]\n",
    "\n",
    "print(list4)"
   ]
  },
  {
   "cell_type": "code",
   "execution_count": 16,
   "metadata": {},
   "outputs": [
    {
     "data": {
      "text/plain": [
       "[]"
      ]
     },
     "execution_count": 16,
     "metadata": {},
     "output_type": "execute_result"
    }
   ],
   "source": [
    "# Clear a list\n",
    "\n",
    "list4.clear()\n",
    "list4"
   ]
  },
  {
   "cell_type": "code",
   "execution_count": 17,
   "metadata": {},
   "outputs": [
    {
     "name": "stdout",
     "output_type": "stream",
     "text": [
      "1 4 7 10 13 16 19 22 25 28 31 34 37 40 43 46 49 \n",
      "1 3 5 7 9 11 13 15 17 19 21 23 25 27 29 31 33 35 37 39 41 43 45 47 49 "
     ]
    }
   ],
   "source": [
    "# Iterate over the list using for loop\n",
    "numbers = [1, 5, 10, 3, 9, 15, -3, 33, 70, 49, 50, 66]\n",
    "\n",
    "# print all numbers\n",
    "for x in range(1, 50, 3):\n",
    "    print(x, end=' ')\n",
    "\n",
    "print()\n",
    "\n",
    "# print numbers in every 2 index\n",
    "for x in range(1, 51, 2):\n",
    "    print(x, end=' ')"
   ]
  },
  {
   "cell_type": "code",
   "execution_count": 18,
   "metadata": {},
   "outputs": [
    {
     "name": "stdout",
     "output_type": "stream",
     "text": [
      "[10, 70, 50, 66] \n",
      "[1, 5, 3, 9, 15, 33, 49] "
     ]
    }
   ],
   "source": [
    "# Looping and list comprehension\n",
    "\n",
    "# Iterate over the list using for loop\n",
    "numbers = [1, 5, 10, 3, 9, -6, 15, -3, 33, 70, 49, 50, 66]\n",
    "\n",
    "# Using list comprehension filter the even and odd numbers\n",
    "even_numbers = [x for x in numbers if x % 2 == 0 and x > 0]\n",
    "odd_numbers = [x for x in numbers if x % 2 != 0 and x > 0]\n",
    "\n",
    "print(even_numbers, end=' ')\n",
    "print()\n",
    "print(odd_numbers, end=' ')"
   ]
  },
  {
   "cell_type": "code",
   "execution_count": 19,
   "metadata": {},
   "outputs": [
    {
     "name": "stdout",
     "output_type": "stream",
     "text": [
      "1 5 10 3 9 -6 15 -3 33 70 49 50 66 "
     ]
    },
    {
     "data": {
      "text/plain": [
       "[None, None, None, None, None, None, None, None, None, None, None, None, None]"
      ]
     },
     "execution_count": 19,
     "metadata": {},
     "output_type": "execute_result"
    }
   ],
   "source": [
    "# looping using list comprehension\n",
    "\n",
    "[print(x, end=' ') for x in numbers]"
   ]
  },
  {
   "cell_type": "code",
   "execution_count": 20,
   "metadata": {},
   "outputs": [
    {
     "name": "stdout",
     "output_type": "stream",
     "text": [
      "['something1', 'something2']\n",
      "[1, 5, 10, 3, 9, -6, 15, -3, 33, 70, 49, 50, 66]\n"
     ]
    }
   ],
   "source": [
    "# copy list to another list\n",
    "\n",
    "newListNumbers = ['something1', 'something2']\n",
    "print(newListNumbers)\n",
    "newListNumbers = numbers\n",
    "print(newListNumbers)"
   ]
  },
  {
   "cell_type": "code",
   "execution_count": 21,
   "metadata": {},
   "outputs": [
    {
     "name": "stdout",
     "output_type": "stream",
     "text": [
      "[102, 104, 106, 108]\n",
      "[102, 104, 106, 108]\n"
     ]
    }
   ],
   "source": [
    "# You're give a list, now create a list which only contains the odd indexed elements\n",
    "\n",
    "test_list = [101, 102, 103, 104, 105, 106, 107, 108, 109]\n",
    "\n",
    "# declaring empty lists\n",
    "res_list1 = []\n",
    "res_list2 = []\n",
    "\n",
    "# Way 1: Conditional\n",
    "for i in range(0, len(test_list)):\n",
    "    if i % 2 != 0:\n",
    "        res_list1.append(test_list[i])\n",
    "\n",
    "# Way 2: Clean code\n",
    "for i in range(1, len(test_list), 2):\n",
    "    res_list2.append(test_list[i])\n",
    "\n",
    "print(res_list1)\n",
    "print(res_list2)"
   ]
  },
  {
   "cell_type": "code",
   "execution_count": 22,
   "metadata": {},
   "outputs": [
    {
     "data": {
      "text/plain": [
       "[0, 1, 2, 3, 4, 5, 6, 7, 8, 9]"
      ]
     },
     "execution_count": 22,
     "metadata": {},
     "output_type": "execute_result"
    }
   ],
   "source": [
    "# make a list that contains 0 to 10\n",
    "newlist = [x for x in range(10) if x <= 10]\n",
    "newlist"
   ]
  },
  {
   "cell_type": "code",
   "execution_count": 23,
   "metadata": {},
   "outputs": [
    {
     "name": "stdout",
     "output_type": "stream",
     "text": [
      "[79, 63, -44, -42, -14, 44, -9, 15, -12, 56]\n"
     ]
    }
   ],
   "source": [
    "# Sorting a list\n",
    "\n",
    "# Generate 10 random numbers in a list\n",
    "import random\n",
    "list5 = [random.randint(-50, 100) for i in range(10)]\n",
    "print(list5)"
   ]
  },
  {
   "cell_type": "code",
   "execution_count": 24,
   "metadata": {},
   "outputs": [
    {
     "name": "stdout",
     "output_type": "stream",
     "text": [
      "[-44, -42, -14, -12, -9, 15, 44, 56, 63, 79]\n",
      "[79, 63, 56, 44, 15, -9, -12, -14, -42, -44]\n"
     ]
    }
   ],
   "source": [
    "# sorting in ascending order\n",
    "list5.sort()\n",
    "print(list5)\n",
    "\n",
    "# sorting in descending order\n",
    "list5.sort(reverse=True)\n",
    "print(list5)"
   ]
  },
  {
   "cell_type": "code",
   "execution_count": 25,
   "metadata": {},
   "outputs": [
    {
     "name": "stdout",
     "output_type": "stream",
     "text": [
      "['Kiwi', 'Orange', 'banana', 'cherry']\n"
     ]
    }
   ],
   "source": [
    "thislist = [\"banana\", \"Orange\", \"Kiwi\", \"cherry\"]\n",
    "thislist.sort()\n",
    "print(thislist)"
   ]
  },
  {
   "cell_type": "code",
   "execution_count": 26,
   "metadata": {},
   "outputs": [
    {
     "name": "stdout",
     "output_type": "stream",
     "text": [
      "[-100, -200, -300]\n",
      "[-100, -200, -300, 56, 44, 15, -9]\n"
     ]
    }
   ],
   "source": [
    "# Copy 2-5 index of a list into another list along with the old items\n",
    "list6 = [-100, -200, -300]\n",
    "print(list6)\n",
    "\n",
    "list6 = list6 + list5[2:6]\n",
    "print(list6)"
   ]
  },
  {
   "cell_type": "code",
   "execution_count": 27,
   "metadata": {},
   "outputs": [
    {
     "name": "stdout",
     "output_type": "stream",
     "text": [
      "[1, 2, 3, 4, 5, 6, 7, 1, 1, 1, 1, 2, 3, 4, 5, 6, 7, 1, 1, 1]\n"
     ]
    }
   ],
   "source": [
    "# Multiply list\n",
    "\n",
    "list_numbers = [1, 2, 3, 4, 5, 6, 7, 1, 1, 1]\n",
    "list_numbers *= 2\n",
    "print(list_numbers)"
   ]
  },
  {
   "cell_type": "code",
   "execution_count": 28,
   "metadata": {},
   "outputs": [
    {
     "name": "stdout",
     "output_type": "stream",
     "text": [
      "8\n"
     ]
    }
   ],
   "source": [
    "# Count occurrence of a specific number\n",
    "\n",
    "print(list_numbers.count(1))"
   ]
  },
  {
   "cell_type": "markdown",
   "metadata": {},
   "source": [
    "# Python Tuples\n"
   ]
  },
  {
   "cell_type": "code",
   "execution_count": 29,
   "metadata": {},
   "outputs": [
    {
     "name": "stdout",
     "output_type": "stream",
     "text": [
      "[100, 200, 2, 3, 4, 5, 6, 7, 8, 8, 8]\n",
      "(1, 2, 3, 4, 5, 6, 7, 8)\n"
     ]
    }
   ],
   "source": [
    "test_list = [1, 2, 3, 4, 5, 6, 7, 8, 8, 8]\n",
    "test_tuple = (1, 2, 3, 4, 5, 6, 7, 8)\n",
    "\n",
    "test_list[0] = 100\n",
    "test_list.insert(1, 200)\n",
    "print(test_list)\n",
    "\n",
    "print(test_tuple)"
   ]
  },
  {
   "cell_type": "markdown",
   "metadata": {},
   "source": [
    "Invalid tuple operations"
   ]
  },
  {
   "cell_type": "code",
   "execution_count": 30,
   "metadata": {},
   "outputs": [],
   "source": [
    "# Tuple items are immutable, they can't deleted once created\n",
    "# test_tuple.pop()\n",
    "\n",
    "# test_tuple.insert(1, 10000)\n",
    "\n",
    "# tuple_2.append(\"item4\")"
   ]
  },
  {
   "cell_type": "code",
   "execution_count": 31,
   "metadata": {},
   "outputs": [
    {
     "name": "stdout",
     "output_type": "stream",
     "text": [
      "('item 1',) <class 'tuple'>\n"
     ]
    }
   ],
   "source": [
    "# One item tuple \n",
    "\n",
    "one_item_tuple = (\"item 1\", )\n",
    "print(one_item_tuple, type(one_item_tuple))"
   ]
  },
  {
   "cell_type": "code",
   "execution_count": 32,
   "metadata": {},
   "outputs": [
    {
     "name": "stdout",
     "output_type": "stream",
     "text": [
      "('item1', 'item2', 'item3') <class 'tuple'>\n",
      "['item1', 'item2', 'item3'] <class 'list'>\n"
     ]
    }
   ],
   "source": [
    "# Converting a tuple into a list and vice versa\n",
    "\n",
    "tuple_1 = (\"item1\", \"item2\", \"item3\")\n",
    "print(tuple_1, type(tuple_1))\n",
    "\n",
    "tuple_1 = list(tuple_1)\n",
    "print(tuple_1, type(tuple_1))"
   ]
  },
  {
   "cell_type": "code",
   "execution_count": 33,
   "metadata": {},
   "outputs": [
    {
     "name": "stdout",
     "output_type": "stream",
     "text": [
      "['item1', 'item2', 'item3'] <class 'list'>\n",
      "('item1', 'item2', 'item3') <class 'tuple'>\n"
     ]
    }
   ],
   "source": [
    "list7 = ['item1', 'item2', 'item3']\n",
    "print(list7, type(list7))\n",
    "\n",
    "list7 = tuple(list7)\n",
    "print(list7, type(list7))"
   ]
  },
  {
   "cell_type": "markdown",
   "metadata": {},
   "source": [
    "Merge or join tuples"
   ]
  },
  {
   "cell_type": "code",
   "execution_count": 34,
   "metadata": {},
   "outputs": [
    {
     "name": "stdout",
     "output_type": "stream",
     "text": [
      "('item1', 'item2', 'item3', 'item4', 'item5', 'item6')\n",
      "('item1', 'item2', 'item3', 'item4') <class 'tuple'>\n"
     ]
    }
   ],
   "source": [
    "tuple_2 = (\"item1\", \"item2\", \"item3\")\n",
    "tuple_3 = (\"item4\", \"item5\", \"item6\")\n",
    "tuple_2 += tuple_3\n",
    "\n",
    "print(tuple_2)\n",
    "\n",
    "# 🧠🧠 Brainstorm: Why adding another tuple is valid whereas appending new item is invalid\n",
    "\n",
    "test_tuple_2 = (\"item1\", \"item2\", \"item3\")\n",
    "# test_tuple_2.append(\"item4\")\n",
    "\n",
    "# What is the workaround\n",
    "test_tuple_2 = list(test_tuple_2)\n",
    "test_tuple_2.append(\"item4\")\n",
    "test_tuple_2 = tuple(test_tuple_2)\n",
    "print(test_tuple_2, type(test_tuple_2))"
   ]
  },
  {
   "cell_type": "code",
   "execution_count": 35,
   "metadata": {},
   "outputs": [
    {
     "name": "stdout",
     "output_type": "stream",
     "text": [
      "('Hello', 'Bangladesh', 'and World!!')\n",
      "Hello Bangladesh and World!! \n"
     ]
    }
   ],
   "source": [
    "test_tuple_3 = (\"Hello\",)\n",
    "test_tuple_4 = (\"Bangladesh\", \"and World!!\")\n",
    "final = test_tuple_3 + test_tuple_4\n",
    "\n",
    "print(final)\n",
    "\n",
    "fullStr = \"\"\n",
    "for x in final:\n",
    "    fullStr += x + \" \"\n",
    "\n",
    "print(fullStr)"
   ]
  },
  {
   "cell_type": "code",
   "execution_count": 36,
   "metadata": {},
   "outputs": [
    {
     "name": "stdout",
     "output_type": "stream",
     "text": [
      "apple banana ['cherry', 'strawberry', 'raspberry']\n"
     ]
    }
   ],
   "source": [
    "# unpacking tuple\n",
    "\n",
    "fruits = (\"apple\", \"banana\", \"cherry\", \"strawberry\", \"raspberry\")\n",
    "\n",
    "(item1, item2, *remain_fruit) = fruits\n",
    "print(item1, item2, remain_fruit)"
   ]
  },
  {
   "cell_type": "code",
   "execution_count": 37,
   "metadata": {},
   "outputs": [
    {
     "name": "stdout",
     "output_type": "stream",
     "text": [
      "apple banana cherry strawberry raspberry "
     ]
    }
   ],
   "source": [
    "for x in fruits:\n",
    "    print(x, end=' ')"
   ]
  },
  {
   "cell_type": "code",
   "execution_count": 38,
   "metadata": {},
   "outputs": [
    {
     "name": "stdout",
     "output_type": "stream",
     "text": [
      "(1, 2, 3, 4, 5, 6, 7, 1, 2, 3, 4, 5, 6, 7)\n"
     ]
    }
   ],
   "source": [
    "# Multiply tuple\n",
    "\n",
    "tuple_numbers = (1, 2, 3, 4, 5, 6, 7)\n",
    "tuple_numbers *= 2\n",
    "print(tuple_numbers)"
   ]
  },
  {
   "cell_type": "markdown",
   "metadata": {},
   "source": [
    "Position of an item in a list or tuple"
   ]
  },
  {
   "cell_type": "code",
   "execution_count": 39,
   "metadata": {},
   "outputs": [
    {
     "name": "stdout",
     "output_type": "stream",
     "text": [
      "1\n",
      "3\n"
     ]
    }
   ],
   "source": [
    "test_tuple_5 = (\"America\", \"Bangladesh\", \"Canada\", \"Denmark\", \"England\")\n",
    "test_list_2 = [\"America\", \"Canada\", \"Denmark\", \"England\", \"Bangladesh\"]\n",
    "\n",
    "# Position in the tuple\n",
    "print(test_tuple_5.index(\"Bangladesh\"))\n",
    "zero_based_idx = test_list_2.index(\"England\")\n",
    "print(zero_based_idx)"
   ]
  },
  {
   "cell_type": "markdown",
   "metadata": {},
   "source": [
    "How to convert a zero-based index into a negative index"
   ]
  },
  {
   "cell_type": "code",
   "execution_count": 40,
   "metadata": {},
   "outputs": [
    {
     "name": "stdout",
     "output_type": "stream",
     "text": [
      "-2\n"
     ]
    }
   ],
   "source": [
    "negative_idx = zero_based_idx - len(test_list_2)\n",
    "print(negative_idx)"
   ]
  },
  {
   "cell_type": "markdown",
   "metadata": {},
   "source": [
    "# Python Set\n",
    "\n",
    "### Traits of Set\n",
    "- Duplicate items are not allowed"
   ]
  },
  {
   "cell_type": "code",
   "execution_count": 4,
   "metadata": {},
   "outputs": [
    {
     "name": "stdout",
     "output_type": "stream",
     "text": [
      "{'3', '1', '2', '4'}\n"
     ]
    }
   ],
   "source": [
    "my_set_1 = {\"1\", \"2\", \"3\", \"1\", \"4\"}\n",
    "print(my_set_1)"
   ]
  },
  {
   "cell_type": "code",
   "execution_count": 44,
   "metadata": {},
   "outputs": [
    {
     "name": "stdout",
     "output_type": "stream",
     "text": [
      "{'1'}\n"
     ]
    }
   ],
   "source": [
    "# How to find the duplicate elements => keep the item that exist both in set 'x' and set 'y'\n",
    "\n",
    "x = {'1', '2'}\n",
    "y = {'5', '6', '1'}\n",
    "x.intersection_update(y)\n",
    "print(x)"
   ]
  },
  {
   "cell_type": "markdown",
   "metadata": {},
   "source": [
    "Iterating a set "
   ]
  },
  {
   "cell_type": "code",
   "execution_count": 45,
   "metadata": {},
   "outputs": [
    {
     "name": "stdout",
     "output_type": "stream",
     "text": [
      "20 6 5 4 10 3 1 2 "
     ]
    }
   ],
   "source": [
    "for item in my_set_1:\n",
    "    print(item, end=\" \")"
   ]
  },
  {
   "cell_type": "markdown",
   "metadata": {},
   "source": [
    "-   Merging set items\n",
    "    -   `update()` 👉 In-place or update in existing set\n",
    "    -   `union()` 👉 Returns a new set\n",
    "-   Keep the duplicate elements\n",
    "    -   `intersection()` 👉 Returns a new set\n",
    "    -   `intersection_update()` 👉 In-place\n",
    "-   Exempt the duplicate elements\n",
    "    -   `symmetric_difference()` 👉 Returns a new set\n",
    "    -   `symmetric_difference_update` 👉 In-place\n"
   ]
  },
  {
   "cell_type": "markdown",
   "metadata": {},
   "source": [
    "> The update() method used for merging two set in an existing set. It doesn't return a new set."
   ]
  },
  {
   "cell_type": "code",
   "execution_count": null,
   "metadata": {},
   "outputs": [],
   "source": [
    "my_set_2 = {\"5\", \"5\", \"6\"}\n",
    "# print(my_set_2)\n",
    "\n",
    "# Add items from another set, list or tuple \n",
    "test_list_3 = [\"10\", '20']\n",
    "my_set_1.update(test_list_3)\n",
    "my_set_1.update(my_set_2)\n",
    "\n",
    "print(my_set_1)"
   ]
  },
  {
   "cell_type": "markdown",
   "metadata": {},
   "source": [
    "> The union() method return a new set, hence it requires a variable to accept the new returning value"
   ]
  },
  {
   "cell_type": "code",
   "execution_count": 9,
   "metadata": {},
   "outputs": [
    {
     "name": "stdout",
     "output_type": "stream",
     "text": [
      "{'3', '5', '6', '20', '2', '4', '10', '1'}\n"
     ]
    }
   ],
   "source": [
    "my_set_3 = my_set_2.union(my_set_1)\n",
    "print(my_set_3)"
   ]
  },
  {
   "cell_type": "markdown",
   "metadata": {},
   "source": [
    "> "
   ]
  },
  {
   "cell_type": "code",
   "execution_count": 10,
   "metadata": {},
   "outputs": [
    {
     "name": "stdout",
     "output_type": "stream",
     "text": [
      "{'3', '5', '6', '2', '20', '4', '10', '1'}\n"
     ]
    }
   ],
   "source": [
    "my_set_4 = my_set_3.intersection(my_set_1)\n",
    "print(my_set_4)"
   ]
  },
  {
   "cell_type": "markdown",
   "metadata": {},
   "source": [
    "# Python Dictionary"
   ]
  },
  {
   "cell_type": "code",
   "execution_count": 46,
   "metadata": {},
   "outputs": [
    {
     "name": "stdout",
     "output_type": "stream",
     "text": [
      "{'name': 'Marie D Souza', 'Country': 'Argentina', 'Religion': None, 'Age': 33, 'Education': 'Bachelor'}\n"
     ]
    }
   ],
   "source": [
    "my_dict = {\n",
    "    'name': \"Marie D Souza\",\n",
    "    'Country': 'Argentina',\n",
    "    'Religion': None,\n",
    "    'Age': 33, \n",
    "    'Education': 'PhD in Human Behavior',\n",
    "    'Education': 'PhD in Urban Architecture'\n",
    "}\n",
    "\n",
    "print(my_dict)"
   ]
  },
  {
   "cell_type": "code",
   "execution_count": 47,
   "metadata": {},
   "outputs": [
    {
     "name": "stdout",
     "output_type": "stream",
     "text": [
      "dict_keys(['name', 'Country', 'Religion', 'Age', 'Education'])\n",
      "dict_values(['Marie D Souza', 'Argentina', None, 33, 'Bachelor'])\n",
      "dict_items([('name', 'Marie D Souza'), ('Country', 'Argentina'), ('Religion', None), ('Age', 33), ('Education', 'Bachelor')])\n"
     ]
    }
   ],
   "source": [
    "dict_keys = my_dict.keys()          # returns a list \n",
    "dict_values = my_dict.values()      # returns a list \n",
    "dict_items = my_dict.items()        # returns a list of tuple\n",
    "\n",
    "print(dict_keys)\n",
    "print(dict_values)\n",
    "print(dict_items)"
   ]
  },
  {
   "cell_type": "code",
   "execution_count": 48,
   "metadata": {},
   "outputs": [
    {
     "name": "stdout",
     "output_type": "stream",
     "text": [
      "His age is: 33\n"
     ]
    }
   ],
   "source": [
    "# Check if a 'key' exist in the dictionary \n",
    "\n",
    "if 'Age' in my_dict:\n",
    "    print(f\"His age is: {my_dict['Age']}\")\n",
    "else:\n",
    "    print(\"No such key exist in the dictionary\")"
   ]
  },
  {
   "cell_type": "markdown",
   "metadata": {},
   "source": [
    "Iterating the dictionary"
   ]
  },
  {
   "cell_type": "code",
   "execution_count": 49,
   "metadata": {},
   "outputs": [
    {
     "name": "stdout",
     "output_type": "stream",
     "text": [
      "Marie D Souza Argentina None 33 Bachelor name Marie D Souza\n",
      "Country Argentina\n",
      "Religion None\n",
      "Age 33\n",
      "Education Bachelor\n"
     ]
    }
   ],
   "source": [
    "# way 01\n",
    "for item in my_dict:\n",
    "    print(my_dict[item], end=' ')\n",
    "    \n",
    "for x, y in my_dict.items():\n",
    "    print(x, y)"
   ]
  },
  {
   "cell_type": "code",
   "execution_count": 50,
   "metadata": {},
   "outputs": [
    {
     "name": "stdout",
     "output_type": "stream",
     "text": [
      "name Country Religion Age Education \n",
      "Marie D Souza Argentina None 33 Bachelor "
     ]
    }
   ],
   "source": [
    "# Iterating the keys\n",
    "\n",
    "for item in my_dict.keys():\n",
    "    print(item, end=\" \")\n",
    "\n",
    "print()\n",
    "\n",
    "for item in my_dict.values():\n",
    "    print(item, end = ' ')"
   ]
  },
  {
   "cell_type": "markdown",
   "metadata": {},
   "source": [
    "## Nested dictionary\n",
    "\n",
    "Dictionary that includes one or multiple dictionary"
   ]
  },
  {
   "cell_type": "code",
   "execution_count": 17,
   "metadata": {},
   "outputs": [],
   "source": [
    "# EU\n",
    "\n",
    "European_Union = {\n",
    "\n",
    "    \"Germany\": {\n",
    "        \"cities\": {\n",
    "            \"Berlin\": [],\n",
    "            \"Munich\": [],\n",
    "            \"Frankfurt\": []\n",
    "        },\n",
    "        \"universities\": {\n",
    "\n",
    "        }\n",
    "    },\n",
    "\n",
    "    \"France\": {\n",
    "        \"cities\": {\n",
    "            \"Paris\": [],\n",
    "            \"Niece\": [],\n",
    "        },\n",
    "        \"universities\": {\n",
    "\n",
    "        }\n",
    "    },\n",
    "\n",
    "    \"Italy\": {\n",
    "        \"cities\": {\n",
    "            \"Rome\": [],\n",
    "            \"Venice\": [],\n",
    "            \"\": []\n",
    "        },\n",
    "        \"universities\": {\n",
    "\n",
    "        }\n",
    "    }\n",
    "\n",
    "}"
   ]
  },
  {
   "cell_type": "markdown",
   "metadata": {},
   "source": [
    "Create a program that tracks student exam information\n",
    "- Calculate Average marks \n",
    "- Evaluate the best student \n",
    "- If there is a tie among students, list all those students"
   ]
  },
  {
   "cell_type": "code",
   "execution_count": 51,
   "metadata": {},
   "outputs": [
    {
     "name": "stdout",
     "output_type": "stream",
     "text": [
      "{} <class 'dict'>\n"
     ]
    }
   ],
   "source": [
    "# Creating an empty dictionary\n",
    "students_dict = dict()\n",
    "print(students_dict, type(students_dict))"
   ]
  },
  {
   "cell_type": "code",
   "execution_count": null,
   "metadata": {},
   "outputs": [],
   "source": [
    "students_cnt = int(input(\"Enter number of students: \"))\n",
    "\n",
    "for i in range(1, students_cnt + 1):\n",
    "\n",
    "    # init inner dictionary for the i-th student\n",
    "    label = \"student\" + str(i)\n",
    "    students_dict[label] = dict()\n",
    "\n",
    "    name = input(\"Enter name: \")\n",
    "    students_dict[label][\"name\"] = name\n",
    "\n",
    "    print(\"Enter mark for three subjects: \")\n",
    "    marks_list = []\n",
    "\n",
    "    total_marks = 0\n",
    "    for i in range(1, 4):\n",
    "        x = float(input(f\"Subject {i} marks: \"))\n",
    "        total_marks += x\n",
    "        marks_list.append(x)\n",
    "\n",
    "    students_dict[label]['marksList'] = marks_list\n",
    "    students_dict[label]['average'] = total_marks / 3"
   ]
  },
  {
   "cell_type": "code",
   "execution_count": null,
   "metadata": {},
   "outputs": [
    {
     "name": "stdout",
     "output_type": "stream",
     "text": [
      "{'student1': {'name': 'Subodh Chandra Shil', 'marksList': [100.0, 100.0, 100.0], 'average': 100.0}, 'student2': {'name': 'Rajia Sultana', 'marksList': [100.0, 100.0, 100.0], 'average': 100.0}}\n"
     ]
    }
   ],
   "source": [
    "# Showing the student dictionary\n",
    "\n",
    "print(students_dict)"
   ]
  },
  {
   "cell_type": "code",
   "execution_count": null,
   "metadata": {},
   "outputs": [
    {
     "name": "stdout",
     "output_type": "stream",
     "text": [
      "[['Subodh Chandra Shil', 100.0], ['Rajia Sultana', 100.0]]\n"
     ]
    }
   ],
   "source": [
    "# Evaluating best students\n",
    "best_students = []\n",
    "max_average = 0\n",
    "\n",
    "for x in students_dict:\n",
    "    avg = students_dict[x]['average']\n",
    "\n",
    "    if avg >= max_average:\n",
    "        if avg > max_average:\n",
    "            # popping the previous\n",
    "            best_students.clear()\n",
    "            max_average = avg\n",
    "\n",
    "        # entitling new student\n",
    "        best_students.append([students_dict[x]['name'], avg])\n",
    "\n",
    "print(best_students)"
   ]
  },
  {
   "cell_type": "markdown",
   "metadata": {},
   "source": [
    "How to iterate over a nested dictionary"
   ]
  },
  {
   "cell_type": "code",
   "execution_count": null,
   "metadata": {},
   "outputs": [
    {
     "name": "stdout",
     "output_type": "stream",
     "text": [
      "student1\n",
      "Subodh Chandra Shil\n",
      "[100.0, 100.0, 100.0]\n",
      "100.0\n",
      "student2\n",
      "Rajia Sultana\n",
      "[100.0, 100.0, 100.0]\n",
      "100.0\n"
     ]
    }
   ],
   "source": [
    "for x in students_dict:\n",
    "    print(x)\n",
    "    for y in students_dict[x]:\n",
    "        print(students_dict[x][y])"
   ]
  },
  {
   "cell_type": "code",
   "execution_count": null,
   "metadata": {},
   "outputs": [
    {
     "name": "stdout",
     "output_type": "stream",
     "text": [
      "[] <class 'list'>\n"
     ]
    }
   ],
   "source": [
    "# Empty tuple\n",
    "\n",
    "my_tuple = list()\n",
    "print(my_tuple, type(my_tuple))"
   ]
  },
  {
   "cell_type": "markdown",
   "metadata": {},
   "source": [
    "### Employee Management (Python Dictionary)\n",
    "\n",
    "- Calculate extra bonus \n",
    "- Evaluate who is earning most, and if there any tie among employees then append all"
   ]
  },
  {
   "cell_type": "code",
   "execution_count": null,
   "metadata": {},
   "outputs": [],
   "source": []
  },
  {
   "cell_type": "markdown",
   "metadata": {},
   "source": [
    "### Home rental system (Python Dictionary)"
   ]
  },
  {
   "cell_type": "code",
   "execution_count": null,
   "metadata": {},
   "outputs": [],
   "source": []
  },
  {
   "cell_type": "markdown",
   "metadata": {},
   "source": [
    "### **```Parameter vs Argument```**\n",
    "- **Parameter**: Parameters are the variables that are listed in a function definition.\n",
    "- **Argument**: Argument are the values that are passed at the position of the parameter. \n",
    "\n",
    "2 types of argument:\n",
    "1. **Arbitrary arguments**: Tuple \n"
   ]
  },
  {
   "cell_type": "code",
   "execution_count": 14,
   "metadata": {},
   "outputs": [
    {
     "name": "stdout",
     "output_type": "stream",
     "text": [
      "('Subodh', 'Shil')\n"
     ]
    }
   ],
   "source": [
    "def demo_func1(*args):\n",
    "    print(args)\n",
    "\n",
    "demo_func1(\"Subodh\", \"Shil\")"
   ]
  },
  {
   "cell_type": "markdown",
   "metadata": {},
   "source": [
    "2. **Arbitrary keyword arguments (\\*\\*kwargs)**: Dictionary"
   ]
  },
  {
   "cell_type": "code",
   "execution_count": 12,
   "metadata": {},
   "outputs": [
    {
     "name": "stdout",
     "output_type": "stream",
     "text": [
      "{'name': 'Toru', 'lastName': 'Okazaki'}\n"
     ]
    }
   ],
   "source": [
    "def demo_func2(**kwargs):\n",
    "    print(kwargs)\n",
    "\n",
    "demo_func2(name=\"Toru\", lastName=\"Okazaki\")"
   ]
  },
  {
   "cell_type": "markdown",
   "metadata": {},
   "source": [
    "Default parameter value is auto-initialized value actually used when no argument is passed."
   ]
  },
  {
   "cell_type": "code",
   "execution_count": 9,
   "metadata": {},
   "outputs": [
    {
     "name": "stdout",
     "output_type": "stream",
     "text": [
      "My favorite fruit is Mango\n"
     ]
    }
   ],
   "source": [
    "def demo_func3(fruit=\"Mango\"):\n",
    "    print(f\"My favorite fruit is {fruit}\")\n",
    "\n",
    "demo_func3()"
   ]
  }
 ],
 "metadata": {
  "kernelspec": {
   "display_name": "Python 3",
   "language": "python",
   "name": "python3"
  },
  "language_info": {
   "codemirror_mode": {
    "name": "ipython",
    "version": 3
   },
   "file_extension": ".py",
   "mimetype": "text/x-python",
   "name": "python",
   "nbconvert_exporter": "python",
   "pygments_lexer": "ipython3",
   "version": "3.11.5"
  }
 },
 "nbformat": 4,
 "nbformat_minor": 2
}
