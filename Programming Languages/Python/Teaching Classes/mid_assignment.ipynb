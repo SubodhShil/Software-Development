{
 "cells": [
  {
   "cell_type": "code",
   "execution_count": 16,
   "metadata": {},
   "outputs": [
    {
     "name": "stdout",
     "output_type": "stream",
     "text": [
      "Tip amount: 130.0 taka\n",
      "Total Price: 1430.0 taka\n"
     ]
    }
   ],
   "source": [
    "\"\"\" Q1: A lot of cell phones have tip calculators. Write one. Ask the user for the price of the meal and\n",
    "the percent tip they want to leave. Then print both the tip amount and the total bill with the\n",
    "tip included. \"\"\"\n",
    "\n",
    "import math\n",
    "meal_price = float(input(\"Enter the price of the meal: \"))\n",
    "tip = int(input(\"Enter tip in percentage: \"))\n",
    "\n",
    "tip_amount = meal_price * (float(tip) / 100)\n",
    "total_price = meal_price + tip_amount\n",
    "\n",
    "print(f\"Tip amount: {tip_amount} taka\")\n",
    "print(f\"Total Price: {total_price} taka\")"
   ]
  },
  {
   "cell_type": "code",
   "execution_count": 17,
   "metadata": {},
   "outputs": [
    {
     "name": "stdout",
     "output_type": "stream",
     "text": [
      "100 98 96 94 92 90 88 86 84 82 80 78 76 74 72 70 68 66 64 62 60 58 56 54 52 50 48 46 44 42 40 38 36 34 32 30 28 26 24 22 20 18 16 14 12 10 8 6 4 2 "
     ]
    }
   ],
   "source": [
    "\"\"\" Q2: Write a program that uses a for loop to print the numbers 100, 98, 96, . . . , 4, 2. \"\"\"\n",
    "\n",
    "for i in range(100, 1, -2):\n",
    "    print(i, end=' ')"
   ]
  },
  {
   "cell_type": "code",
   "execution_count": 18,
   "metadata": {},
   "outputs": [
    {
     "name": "stdout",
     "output_type": "stream",
     "text": [
      "Sine value of the angle is: 0.6946583704589973\n"
     ]
    }
   ],
   "source": [
    "\"\"\" Q3: Write a program that asks the user to enter an angle in degrees and prints out the sine of that\n",
    "angle. \"\"\"\n",
    "\n",
    "angle_degree_value = float(input(\"Enter angle degree value: \"))\n",
    "value = math.sin(math.radians(angle_degree_value))\n",
    "\n",
    "print(f\"Sine value of the angle is: {value}\")"
   ]
  },
  {
   "cell_type": "code",
   "execution_count": 19,
   "metadata": {},
   "outputs": [
    {
     "name": "stdout",
     "output_type": "stream",
     "text": [
      "The amount of candy is 177\n"
     ]
    }
   ],
   "source": [
    "\"\"\" Q4: A jar of Halloween candy contains an unknown amount of candy and if you can guess exactly how much candy is in the bowl, then you win all the candy. You ask the person in charge the following: If the candy is divided evenly among 5 people, how many pieces would be left over? The answer is 2 pieces. You then ask about dividing the candy evenly among 6 people, and the amount left over is 3 pieces. Finally, you ask about dividing the candy evenly among 7 people, and the amount left over is 2 pieces. By looking at the bowl, you can tell that there \"\"\"\n",
    "\n",
    "flag = True\n",
    "result = 0\n",
    "\n",
    "while flag:\n",
    "    jar_candy_limit = int(input(\"Enter a candy limit: \"))\n",
    "\n",
    "    # using binary search to fast forward the calculation\n",
    "    for i in range(1, jar_candy_limit + 1):\n",
    "        if i % 5 == 2 and i % 6 == 3 and i % 7 == 2:\n",
    "            result = i\n",
    "            flag = False\n",
    "            break\n",
    "\n",
    "    if result > 0:\n",
    "        print(f\"The amount of candy is {result}\")\n",
    "    else:\n",
    "        print(\n",
    "            f\"The candy limit {jar_candy_limit} is not enough to satisfy such conditions\")"
   ]
  },
  {
   "cell_type": "code",
   "execution_count": 25,
   "metadata": {},
   "outputs": [
    {
     "name": "stdout",
     "output_type": "stream",
     "text": [
      "Enter the wicket history of James Anderson of the 5 match series\n",
      "Anderson has taken total 15 wickets\n",
      "Highest scoring match no is 4, taken 5 wickets\n",
      "\n",
      "Anderson's performance table\n",
      "Goals\t\t\tMatch No.\n",
      "5\t\t\t4\n",
      "4\t\t\t3\n",
      "3\t\t\t2\n",
      "2\t\t\t1\n",
      "1\t\t\t5\n"
     ]
    }
   ],
   "source": [
    "\"\"\" Q5: James Anderson's bowling figures in a series are stored in a list of tuples, where each tuple\n",
    "contains (match_number, wickets_taken). Write a Python program that:\n",
    "1. Calculates the total wickets taken in the series.\n",
    "2. Finds the match with the highest number of wickets taken.\n",
    "3. Returns the match number of his best performance.\n",
    "Example: bowling_figures = [(1, 5), (2, 3), (3, 6), (4, 2), (5, 4)] \"\"\"\n",
    "\n",
    "anderson_wicket_history = list(tuple())\n",
    "\n",
    "def wicket_history_init():\n",
    "    print(\"Enter the wicket history of James Anderson of the 5 match series\")\n",
    "\n",
    "    for i in range(1, 6):\n",
    "        wicket = int(input(f\"Enter the wicket count of match no {i}: \"))\n",
    "        ith_match_wickets = (i, wicket)\n",
    "        anderson_wicket_history.append(ith_match_wickets)\n",
    "\n",
    "# Task 1: Calculates the total wickets taken in the series.\n",
    "def total_wickets():\n",
    "    total = 0\n",
    "    for i in range(len(anderson_wicket_history)):\n",
    "        total += anderson_wicket_history[i][1]\n",
    "\n",
    "    print(f\"Anderson has taken total {total} wickets\")\n",
    "\n",
    "# Task 2: Finds the match with the highest number of wickets taken.\n",
    "def highest_scoring_match():\n",
    "    best_wicket = 0\n",
    "    best_match = 0\n",
    "\n",
    "    for i in range(len(anderson_wicket_history)):\n",
    "        if anderson_wicket_history[i][1] > best_wicket:\n",
    "            best_wicket = anderson_wicket_history[i][1]\n",
    "            best_match = anderson_wicket_history[i][0]\n",
    "    \n",
    "    print(f\"Highest scoring match no is {best_match}, taken {best_wicket} wickets\")\n",
    "\n",
    "# Task 3: Returns the match number of his best performance.\n",
    "def performance_table():\n",
    "    wicket_history = list()\n",
    "\n",
    "    for i in range(len(anderson_wicket_history)):\n",
    "        x = list(anderson_wicket_history[i])\n",
    "        wicket_history.append(x)\n",
    "        y = wicket_history[i]\n",
    "        # swapping\n",
    "        y[0], y[1] = y[1], y[0]\n",
    "\n",
    "    wicket_history.sort(reverse=True)\n",
    "    print(f\"\\nAnderson's performance table\")\n",
    "    print(f\"Goals\\t\\t\\tMatch No.\")\n",
    "    for x in wicket_history:\n",
    "        print(f\"{x[0]}\\t\\t\\t{x[1]}\")\n",
    "\n",
    "wicket_history_init()\n",
    "total_wickets()\n",
    "highest_scoring_match()\n",
    "performance_table()"
   ]
  },
  {
   "cell_type": "code",
   "execution_count": 21,
   "metadata": {},
   "outputs": [
    {
     "name": "stdout",
     "output_type": "stream",
     "text": [
      "Longest streak goals: [5, 6, 7, 8, 9]\n",
      "Start match: 6 and end match: 10\n"
     ]
    }
   ],
   "source": [
    "\"\"\" Q6: Given a list of goals scored by Cristiano Ronaldo in a season where each index represents a\n",
    "match, write a Python program to:\n",
    "1. Determine the longest consecutive streak of matches in which he scored at least one goal.\n",
    "2. Print the start and end match numbers of this streak. \"\"\"\n",
    "\n",
    "def operation(goals):\n",
    "    streak = []\n",
    "    current_streak = []\n",
    "    start_match = 0\n",
    "    end_match = 0\n",
    "\n",
    "    for i in range(len(goals)):\n",
    "        x = goals[i]\n",
    "\n",
    "        if x > 0:\n",
    "            current_streak.append([i, x])\n",
    "\n",
    "        else:\n",
    "            if len(current_streak) > len(streak):\n",
    "                streak = [item[1] for item in current_streak]\n",
    "                start_match = current_streak[0][0] + 1\n",
    "                end_match = current_streak[len(current_streak) - 1][0] + 1\n",
    "\n",
    "            current_streak.clear()\n",
    "\n",
    "    # check\n",
    "    if len(current_streak) > len(streak):\n",
    "        streak = [item[1] for item in current_streak]\n",
    "        start_match = current_streak[0][0] + 1\n",
    "        end_match = current_streak[len(current_streak) - 1][0] + 1\n",
    "        current_streak.clear()\n",
    "\n",
    "    # Task 01\n",
    "    print(f\"Longest streak goals: {streak}\")\n",
    "\n",
    "    # Task 02\n",
    "    print(f\"Start match: {start_match} and end match: {end_match}\")\n",
    "\n",
    "# goals = [5, 4, 3, 2, 0, 7, 0, 8, 8, 8, 8, 8, 8, 0, 7]\n",
    "goals = [1, 2, 3, 0, 0, 5, 6, 7, 8, 9, 0, 0, 0]\n",
    "\n",
    "operation(goals)"
   ]
  },
  {
   "cell_type": "code",
   "execution_count": 22,
   "metadata": {},
   "outputs": [
    {
     "name": "stdout",
     "output_type": "stream",
     "text": [
      "{'La Liga', 'Premier League', 'Serie A'}\n",
      "Total goals: 886\n"
     ]
    }
   ],
   "source": [
    "\"\"\" Q7: Cristiano Ronaldo has played in multiple leagues, and you have a list of tuples where each\n",
    "tuple contains (league_name, goals_scored). Write a Python program to:\n",
    "1. Create a set of unique leagues he has played in.\n",
    "2. Calculate the total goals scored in all leagues \"\"\"\n",
    "\n",
    "\n",
    "# Task 1\n",
    "def unique_league_name(league):\n",
    "    all_unique_league_names = list()\n",
    "    \n",
    "    for x in league:\n",
    "        all_unique_league_names.append(x[0])\n",
    "    \n",
    "    all_unique_league_names = set(all_unique_league_names)\n",
    "    print(all_unique_league_names)\n",
    "\n",
    "# Task 2\n",
    "def total_goals(league):\n",
    "    total_goals = 0\n",
    "    \n",
    "    for x in league:\n",
    "        total_goals += x[1]\n",
    "    \n",
    "    print(f\"Total goals: {total_goals}\")\n",
    "\n",
    "league_goals = [('La Liga', 311), ('Premier League', 84), ('Serie A', 81), ('La Liga', 320), ('Premier League', 90)]\n",
    "\n",
    "unique_league_name(league_goals)\n",
    "total_goals(league_goals)"
   ]
  }
 ],
 "metadata": {
  "kernelspec": {
   "display_name": "Python 3",
   "language": "python",
   "name": "python3"
  },
  "language_info": {
   "codemirror_mode": {
    "name": "ipython",
    "version": 3
   },
   "file_extension": ".py",
   "mimetype": "text/x-python",
   "name": "python",
   "nbconvert_exporter": "python",
   "pygments_lexer": "ipython3",
   "version": "3.11.5"
  }
 },
 "nbformat": 4,
 "nbformat_minor": 2
}
